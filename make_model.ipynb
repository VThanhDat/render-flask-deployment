{
 "cells": [
  {
   "cell_type": "code",
   "execution_count": 7,
   "metadata": {},
   "outputs": [
    {
     "name": "stdout",
     "output_type": "stream",
     "text": [
      "Lần 1: Độ chính xác của mô hình Decision Tree: 0.933\n",
      "Lần 2: Độ chính xác của mô hình Decision Tree: 0.978\n",
      "Lần 3: Độ chính xác của mô hình Decision Tree: 0.978\n",
      "Lần 4: Độ chính xác của mô hình Decision Tree: 0.978\n",
      "Lần 5: Độ chính xác của mô hình Decision Tree: 0.911\n",
      "Lần 6: Độ chính xác của mô hình Decision Tree: 0.933\n",
      "Lần 7: Độ chính xác của mô hình Decision Tree: 0.956\n",
      "Lần 8: Độ chính xác của mô hình Decision Tree: 0.933\n",
      "Lần 9: Độ chính xác của mô hình Decision Tree: 0.889\n",
      "Lần 10: Độ chính xác của mô hình Decision Tree: 0.956\n",
      "Mô hình có độ chính xác cao nhất (0.978) đã được lưu thành file: best_decision_tree_model_iris.pkl\n"
     ]
    }
   ],
   "source": [
    "from sklearn import datasets\n",
    "import joblib\n",
    "from sklearn.tree import DecisionTreeClassifier\n",
    "from sklearn.model_selection import train_test_split\n",
    "import pandas as pd\n",
    "import numpy as np\n",
    "\n",
    "# Tải dữ liệu Iris\n",
    "iris = datasets.load_iris()\n",
    "columns = [\"Petal length\", \"Petal Width\", \"Sepal Length\", \"Sepal Width\"]\n",
    "df = pd.DataFrame(iris.data, columns=columns)\n",
    "y = iris.target\n",
    "\n",
    "best_accuracy = 0\n",
    "best_model = None\n",
    "\n",
    "# Thực hiện huấn luyện mô hình 10 lần\n",
    "for i in range(10):\n",
    "    # Chia dữ liệu thành tập huấn luyện và tập kiểm tra theo tỷ lệ 70/30\n",
    "    X_train, X_test, y_train, y_test = train_test_split(df, y, test_size=0.3)\n",
    "    \n",
    "    # Xây dựng mô hình Decision Tree\n",
    "    model = DecisionTreeClassifier()\n",
    "    \n",
    "    # Huấn luyện mô hình\n",
    "    model.fit(X_train, y_train)\n",
    "    \n",
    "    # Tính độ chính xác\n",
    "    accuracy = model.score(X_test, y_test)\n",
    "    print(f\"Lần {i+1}: Độ chính xác của mô hình Decision Tree: {accuracy:.3f}\")\n",
    "    \n",
    "    # Kiểm tra nếu mô hình hiện tại có độ chính xác lớn hơn\n",
    "    if accuracy > best_accuracy:\n",
    "        best_accuracy = accuracy\n",
    "        best_model = model\n",
    "\n",
    "# Sau khi thực hiện xong 10 lần, lưu mô hình có độ chính xác lớn nhất\n",
    "if best_model is not None:\n",
    "    model_filename = 'best_decision_tree_model_iris.pkl'\n",
    "    joblib.dump(best_model, model_filename)\n",
    "    print(f\"Mô hình có độ chính xác cao nhất ({best_accuracy:.3f}) đã được lưu thành file: {model_filename}\")\n"
   ]
  }
 ],
 "metadata": {
  "kernelspec": {
   "display_name": ".venv",
   "language": "python",
   "name": "python3"
  },
  "language_info": {
   "codemirror_mode": {
    "name": "ipython",
    "version": 3
   },
   "file_extension": ".py",
   "mimetype": "text/x-python",
   "name": "python",
   "nbconvert_exporter": "python",
   "pygments_lexer": "ipython3",
   "version": "3.11.9"
  }
 },
 "nbformat": 4,
 "nbformat_minor": 2
}
